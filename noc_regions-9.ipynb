{
 "cells": [
  {
   "cell_type": "code",
   "execution_count": 0,
   "metadata": {
    "application/vnd.databricks.v1+cell": {
     "cellMetadata": {
      "byteLimit": 2048000,
      "rowLimit": 10000
     },
     "inputWidgets": {},
     "nuid": "6482be4c-f067-47c9-b0ac-35c938b94601",
     "showTitle": false,
     "tableResultSettingsMap": {},
     "title": ""
    }
   },
   "outputs": [
    {
     "output_type": "display_data",
     "data": {
      "text/html": [
       "<style scoped>\n",
       "  .table-result-container {\n",
       "    max-height: 300px;\n",
       "    overflow: auto;\n",
       "  }\n",
       "  table, th, td {\n",
       "    border: 1px solid black;\n",
       "    border-collapse: collapse;\n",
       "  }\n",
       "  th, td {\n",
       "    padding: 5px;\n",
       "  }\n",
       "  th {\n",
       "    text-align: left;\n",
       "  }\n",
       "</style><div class='table-result-container'><table class='table-result'><thead style='background-color: white'><tr><th>NOC</th><th>region</th><th>notes</th></tr></thead><tbody><tr><td>AFG</td><td>Afghanistan</td><td>null</td></tr><tr><td>AHO</td><td>Curacao</td><td>Netherlands Antilles</td></tr><tr><td>ALB</td><td>Albania</td><td>null</td></tr><tr><td>ALG</td><td>Algeria</td><td>null</td></tr><tr><td>AND</td><td>Andorra</td><td>null</td></tr><tr><td>ANG</td><td>Angola</td><td>null</td></tr><tr><td>ANT</td><td>Antigua</td><td>Antigua and Barbuda</td></tr><tr><td>ANZ</td><td>Australia</td><td>Australasia</td></tr><tr><td>ARG</td><td>Argentina</td><td>null</td></tr><tr><td>ARM</td><td>Armenia</td><td>null</td></tr><tr><td>ARU</td><td>Aruba</td><td>null</td></tr><tr><td>ASA</td><td>American Samoa</td><td>null</td></tr><tr><td>AUS</td><td>Australia</td><td>null</td></tr><tr><td>AUT</td><td>Austria</td><td>null</td></tr><tr><td>AZE</td><td>Azerbaijan</td><td>null</td></tr><tr><td>BAH</td><td>Bahamas</td><td>null</td></tr><tr><td>BAN</td><td>Bangladesh</td><td>null</td></tr><tr><td>BAR</td><td>Barbados</td><td>null</td></tr><tr><td>BDI</td><td>Burundi</td><td>null</td></tr><tr><td>BEL</td><td>Belgium</td><td>null</td></tr><tr><td>BEN</td><td>Benin</td><td>null</td></tr><tr><td>BER</td><td>Bermuda</td><td>null</td></tr><tr><td>BHU</td><td>Bhutan</td><td>null</td></tr><tr><td>BIH</td><td>Bosnia and Herzegovina</td><td>null</td></tr><tr><td>BIZ</td><td>Belize</td><td>null</td></tr><tr><td>BLR</td><td>Belarus</td><td>null</td></tr><tr><td>BOH</td><td>Czech Republic</td><td>Bohemia</td></tr><tr><td>BOL</td><td>Boliva</td><td>null</td></tr><tr><td>BOT</td><td>Botswana</td><td>null</td></tr><tr><td>BRA</td><td>Brazil</td><td>null</td></tr><tr><td>BRN</td><td>Bahrain</td><td>null</td></tr><tr><td>BRU</td><td>Brunei</td><td>null</td></tr><tr><td>BUL</td><td>Bulgaria</td><td>null</td></tr><tr><td>BUR</td><td>Burkina Faso</td><td>null</td></tr><tr><td>CAF</td><td>Central African Republic</td><td>null</td></tr><tr><td>CAM</td><td>Cambodia</td><td>null</td></tr><tr><td>CAN</td><td>Canada</td><td>null</td></tr><tr><td>CAY</td><td>Cayman Islands</td><td>null</td></tr><tr><td>CGO</td><td>Republic of Congo</td><td>null</td></tr><tr><td>CHA</td><td>Chad</td><td>null</td></tr><tr><td>CHI</td><td>Chile</td><td>null</td></tr><tr><td>CHN</td><td>China</td><td>null</td></tr><tr><td>CIV</td><td>Ivory Coast</td><td>null</td></tr><tr><td>CMR</td><td>Cameroon</td><td>null</td></tr><tr><td>COD</td><td>Democratic Republic of the Congo</td><td>null</td></tr><tr><td>COK</td><td>Cook Islands</td><td>null</td></tr><tr><td>COL</td><td>Colombia</td><td>null</td></tr><tr><td>COM</td><td>Comoros</td><td>null</td></tr><tr><td>CPV</td><td>Cape Verde</td><td>null</td></tr><tr><td>CRC</td><td>Costa Rica</td><td>null</td></tr><tr><td>CRO</td><td>Croatia</td><td>null</td></tr><tr><td>CRT</td><td>Greece</td><td>Crete</td></tr><tr><td>CUB</td><td>Cuba</td><td>null</td></tr><tr><td>CYP</td><td>Cyprus</td><td>null</td></tr><tr><td>CZE</td><td>Czech Republic</td><td>null</td></tr><tr><td>DEN</td><td>Denmark</td><td>null</td></tr><tr><td>DJI</td><td>Djibouti</td><td>null</td></tr><tr><td>DMA</td><td>Dominica</td><td>null</td></tr><tr><td>DOM</td><td>Dominican Republic</td><td>null</td></tr><tr><td>ECU</td><td>Ecuador</td><td>null</td></tr><tr><td>EGY</td><td>Egypt</td><td>null</td></tr><tr><td>ERI</td><td>Eritrea</td><td>null</td></tr><tr><td>ESA</td><td>El Salvador</td><td>null</td></tr><tr><td>ESP</td><td>Spain</td><td>null</td></tr><tr><td>EST</td><td>Estonia</td><td>null</td></tr><tr><td>ETH</td><td>Ethiopia</td><td>null</td></tr><tr><td>EUN</td><td>Russia</td><td>null</td></tr><tr><td>FIJ</td><td>Fiji</td><td>null</td></tr><tr><td>FIN</td><td>Finland</td><td>null</td></tr><tr><td>FRA</td><td>France</td><td>null</td></tr><tr><td>FRG</td><td>Germany</td><td>null</td></tr><tr><td>FSM</td><td>Micronesia</td><td>null</td></tr><tr><td>GAB</td><td>Gabon</td><td>null</td></tr><tr><td>GAM</td><td>Gambia</td><td>null</td></tr><tr><td>GBR</td><td>UK</td><td>null</td></tr><tr><td>GBS</td><td>Guinea-Bissau</td><td>null</td></tr><tr><td>GDR</td><td>Germany</td><td>null</td></tr><tr><td>GEO</td><td>Georgia</td><td>null</td></tr><tr><td>GEQ</td><td>Equatorial Guinea</td><td>null</td></tr><tr><td>GER</td><td>Germany</td><td>null</td></tr><tr><td>GHA</td><td>Ghana</td><td>null</td></tr><tr><td>GRE</td><td>Greece</td><td>null</td></tr><tr><td>GRN</td><td>Grenada</td><td>null</td></tr><tr><td>GUA</td><td>Guatemala</td><td>null</td></tr><tr><td>GUI</td><td>Guinea</td><td>null</td></tr><tr><td>GUM</td><td>Guam</td><td>null</td></tr><tr><td>GUY</td><td>Guyana</td><td>null</td></tr><tr><td>HAI</td><td>Haiti</td><td>null</td></tr><tr><td>HKG</td><td>China</td><td>Hong Kong</td></tr><tr><td>HON</td><td>Honduras</td><td>null</td></tr><tr><td>HUN</td><td>Hungary</td><td>null</td></tr><tr><td>INA</td><td>Indonesia</td><td>null</td></tr><tr><td>IND</td><td>India</td><td>null</td></tr><tr><td>IOA</td><td>Individual Olympic Athletes</td><td>Individual Olympic Athletes</td></tr><tr><td>IRI</td><td>Iran</td><td>null</td></tr><tr><td>IRL</td><td>Ireland</td><td>null</td></tr><tr><td>IRQ</td><td>Iraq</td><td>null</td></tr><tr><td>ISL</td><td>Iceland</td><td>null</td></tr><tr><td>ISR</td><td>Israel</td><td>null</td></tr><tr><td>\"ISV,\"\"Virgin Islands</td><td> US\"\"</td><td>Virgin Islands\"</td></tr><tr><td>ITA</td><td>Italy</td><td>null</td></tr><tr><td>\"IVB,\"\"Virgin Islands</td><td> British\"\"</td><td>\n",
       "</td></tr><tr><td>JAM</td><td>Jamaica</td><td>null</td></tr><tr><td>JOR</td><td>Jordan</td><td>null</td></tr><tr><td>JPN</td><td>Japan</td><td>null</td></tr><tr><td>KAZ</td><td>Kazakhstan</td><td>null</td></tr><tr><td>KEN</td><td>Kenya</td><td>null</td></tr><tr><td>KGZ</td><td>Kyrgyzstan</td><td>null</td></tr><tr><td>KIR</td><td>Kiribati</td><td>null</td></tr><tr><td>KOR</td><td>South Korea</td><td>null</td></tr><tr><td>KOS</td><td>Kosovo</td><td>null</td></tr><tr><td>KSA</td><td>Saudi Arabia</td><td>null</td></tr><tr><td>KUW</td><td>Kuwait</td><td>null</td></tr><tr><td>LAO</td><td>Laos</td><td>null</td></tr><tr><td>LAT</td><td>Latvia</td><td>null</td></tr><tr><td>LBA</td><td>Libya</td><td>null</td></tr><tr><td>LBR</td><td>Liberia</td><td>null</td></tr><tr><td>LCA</td><td>Saint Lucia</td><td>null</td></tr><tr><td>LES</td><td>Lesotho</td><td>null</td></tr><tr><td>LIB</td><td>Lebanon</td><td>null</td></tr><tr><td>LIE</td><td>Liechtenstein</td><td>null</td></tr><tr><td>LTU</td><td>Lithuania</td><td>null</td></tr><tr><td>LUX</td><td>Luxembourg</td><td>null</td></tr><tr><td>MAD</td><td>Madagascar</td><td>null</td></tr><tr><td>MAL</td><td>Malaysia</td><td>null</td></tr><tr><td>MAR</td><td>Morocco</td><td>null</td></tr><tr><td>MAS</td><td>Malaysia</td><td>null</td></tr><tr><td>MAW</td><td>Malawi</td><td>null</td></tr><tr><td>MDA</td><td>Moldova</td><td>null</td></tr><tr><td>MDV</td><td>Maldives</td><td>null</td></tr><tr><td>MEX</td><td>Mexico</td><td>null</td></tr><tr><td>MGL</td><td>Mongolia</td><td>null</td></tr><tr><td>MHL</td><td>Marshall Islands</td><td>null</td></tr><tr><td>MKD</td><td>Macedonia</td><td>null</td></tr><tr><td>MLI</td><td>Mali</td><td>null</td></tr><tr><td>MLT</td><td>Malta</td><td>null</td></tr><tr><td>MNE</td><td>Montenegro</td><td>null</td></tr><tr><td>MON</td><td>Monaco</td><td>null</td></tr><tr><td>MOZ</td><td>Mozambique</td><td>null</td></tr><tr><td>MRI</td><td>Mauritius</td><td>null</td></tr><tr><td>MTN</td><td>Mauritania</td><td>null</td></tr><tr><td>MYA</td><td>Myanmar</td><td>null</td></tr><tr><td>NAM</td><td>Namibia</td><td>null</td></tr><tr><td>NBO</td><td>Malaysia</td><td>North Borneo</td></tr><tr><td>NCA</td><td>Nicaragua</td><td>null</td></tr><tr><td>NED</td><td>Netherlands</td><td>null</td></tr><tr><td>NEP</td><td>Nepal</td><td>null</td></tr><tr><td>NFL</td><td>Canada</td><td>Newfoundland</td></tr><tr><td>NGR</td><td>Nigeria</td><td>null</td></tr><tr><td>NIG</td><td>Niger</td><td>null</td></tr><tr><td>NOR</td><td>Norway</td><td>null</td></tr><tr><td>NRU</td><td>Nauru</td><td>null</td></tr><tr><td>NZL</td><td>New Zealand</td><td>null</td></tr><tr><td>OMA</td><td>Oman</td><td>null</td></tr><tr><td>PAK</td><td>Pakistan</td><td>null</td></tr><tr><td>PAN</td><td>Panama</td><td>null</td></tr><tr><td>PAR</td><td>Paraguay</td><td>null</td></tr><tr><td>PER</td><td>Peru</td><td>null</td></tr><tr><td>PHI</td><td>Philippines</td><td>null</td></tr><tr><td>PLE</td><td>Palestine</td><td>null</td></tr><tr><td>PLW</td><td>Palau</td><td>null</td></tr><tr><td>PNG</td><td>Papua New Guinea</td><td>null</td></tr><tr><td>POL</td><td>Poland</td><td>null</td></tr><tr><td>POR</td><td>Portugal</td><td>null</td></tr><tr><td>PRK</td><td>North Korea</td><td>null</td></tr><tr><td>PUR</td><td>Puerto Rico</td><td>null</td></tr><tr><td>QAT</td><td>Qatar</td><td>null</td></tr><tr><td>RHO</td><td>Zimbabwe</td><td>null</td></tr><tr><td>ROT</td><td>NA</td><td>Refugee Olympic Team</td></tr><tr><td>ROU</td><td>Romania</td><td>null</td></tr><tr><td>RSA</td><td>South Africa</td><td>null</td></tr><tr><td>RUS</td><td>Russia</td><td>null</td></tr><tr><td>RWA</td><td>Rwanda</td><td>null</td></tr><tr><td>SAA</td><td>Germany</td><td>null</td></tr><tr><td>SAM</td><td>Samoa</td><td>null</td></tr><tr><td>SCG</td><td>Serbia</td><td>Serbia and Montenegro</td></tr><tr><td>SEN</td><td>Senegal</td><td>null</td></tr><tr><td>SEY</td><td>Seychelles</td><td>null</td></tr><tr><td>SIN</td><td>Singapore</td><td>null</td></tr><tr><td>SKN</td><td>Saint Kitts</td><td>Turks and Caicos Islands</td></tr><tr><td>SLE</td><td>Sierra Leone</td><td>null</td></tr><tr><td>SLO</td><td>Slovenia</td><td>null</td></tr><tr><td>SMR</td><td>San Marino</td><td>null</td></tr><tr><td>SOL</td><td>Solomon Islands</td><td>null</td></tr><tr><td>SOM</td><td>Somalia</td><td>null</td></tr><tr><td>SRB</td><td>Serbia</td><td>null</td></tr><tr><td>SRI</td><td>Sri Lanka</td><td>null</td></tr><tr><td>SSD</td><td>South Sudan</td><td>null</td></tr><tr><td>STP</td><td>Sao Tome and Principe</td><td>null</td></tr><tr><td>SUD</td><td>Sudan</td><td>null</td></tr><tr><td>SUI</td><td>Switzerland</td><td>null</td></tr><tr><td>SUR</td><td>Suriname</td><td>null</td></tr><tr><td>SVK</td><td>Slovakia</td><td>null</td></tr><tr><td>SWE</td><td>Sweden</td><td>null</td></tr><tr><td>SWZ</td><td>Swaziland</td><td>null</td></tr><tr><td>SYR</td><td>Syria</td><td>null</td></tr><tr><td>TAN</td><td>Tanzania</td><td>null</td></tr><tr><td>TCH</td><td>Czech Republic</td><td>null</td></tr><tr><td>TGA</td><td>Tonga</td><td>null</td></tr><tr><td>THA</td><td>Thailand</td><td>null</td></tr><tr><td>TJK</td><td>Tajikistan</td><td>null</td></tr><tr><td>TKM</td><td>Turkmenistan</td><td>null</td></tr><tr><td>TLS</td><td>Timor-Leste</td><td>null</td></tr><tr><td>TOG</td><td>Togo</td><td>null</td></tr><tr><td>TPE</td><td>Taiwan</td><td>null</td></tr><tr><td>TTO</td><td>Trinidad</td><td>Trinidad and Tobago</td></tr><tr><td>TUN</td><td>Tunisia</td><td>null</td></tr><tr><td>TUR</td><td>Turkey</td><td>null</td></tr><tr><td>TUV</td><td>NA</td><td>Tuvalu</td></tr><tr><td>UAE</td><td>United Arab Emirates</td><td>null</td></tr><tr><td>UAR</td><td>Syria</td><td>United Arab Republic</td></tr><tr><td>UGA</td><td>Uganda</td><td>null</td></tr><tr><td>UKR</td><td>Ukraine</td><td>null</td></tr><tr><td>UNK</td><td>NA</td><td>Unknown</td></tr><tr><td>URS</td><td>Russia</td><td>null</td></tr><tr><td>URU</td><td>Uruguay</td><td>null</td></tr><tr><td>USA</td><td>USA</td><td>null</td></tr><tr><td>UZB</td><td>Uzbekistan</td><td>null</td></tr><tr><td>VAN</td><td>Vanuatu</td><td>null</td></tr><tr><td>VEN</td><td>Venezuela</td><td>null</td></tr><tr><td>VIE</td><td>Vietnam</td><td>null</td></tr><tr><td>VIN</td><td>Saint Vincent</td><td>null</td></tr><tr><td>VNM</td><td>Vietnam</td><td>null</td></tr><tr><td>WIF</td><td>Trinidad</td><td>West Indies Federation</td></tr><tr><td>YAR</td><td>Yemen</td><td>North Yemen</td></tr><tr><td>YEM</td><td>Yemen</td><td>null</td></tr><tr><td>YMD</td><td>Yemen</td><td>South Yemen</td></tr><tr><td>YUG</td><td>Serbia</td><td>Yugoslavia</td></tr><tr><td>ZAM</td><td>Zambia</td><td>null</td></tr><tr><td>ZIM</td><td>Zimbabwe</td><td>null</td></tr></tbody></table></div>"
      ]
     },
     "metadata": {
      "application/vnd.databricks.v1+output": {
       "addedWidgets": {},
       "aggData": [],
       "aggError": "",
       "aggOverflow": false,
       "aggSchema": [],
       "aggSeriesLimitReached": false,
       "aggType": "",
       "arguments": {},
       "columnCustomDisplayInfos": {},
       "data": [
        [
         "AFG",
         "Afghanistan",
         null
        ],
        [
         "AHO",
         "Curacao",
         "Netherlands Antilles"
        ],
        [
         "ALB",
         "Albania",
         null
        ],
        [
         "ALG",
         "Algeria",
         null
        ],
        [
         "AND",
         "Andorra",
         null
        ],
        [
         "ANG",
         "Angola",
         null
        ],
        [
         "ANT",
         "Antigua",
         "Antigua and Barbuda"
        ],
        [
         "ANZ",
         "Australia",
         "Australasia"
        ],
        [
         "ARG",
         "Argentina",
         null
        ],
        [
         "ARM",
         "Armenia",
         null
        ],
        [
         "ARU",
         "Aruba",
         null
        ],
        [
         "ASA",
         "American Samoa",
         null
        ],
        [
         "AUS",
         "Australia",
         null
        ],
        [
         "AUT",
         "Austria",
         null
        ],
        [
         "AZE",
         "Azerbaijan",
         null
        ],
        [
         "BAH",
         "Bahamas",
         null
        ],
        [
         "BAN",
         "Bangladesh",
         null
        ],
        [
         "BAR",
         "Barbados",
         null
        ],
        [
         "BDI",
         "Burundi",
         null
        ],
        [
         "BEL",
         "Belgium",
         null
        ],
        [
         "BEN",
         "Benin",
         null
        ],
        [
         "BER",
         "Bermuda",
         null
        ],
        [
         "BHU",
         "Bhutan",
         null
        ],
        [
         "BIH",
         "Bosnia and Herzegovina",
         null
        ],
        [
         "BIZ",
         "Belize",
         null
        ],
        [
         "BLR",
         "Belarus",
         null
        ],
        [
         "BOH",
         "Czech Republic",
         "Bohemia"
        ],
        [
         "BOL",
         "Boliva",
         null
        ],
        [
         "BOT",
         "Botswana",
         null
        ],
        [
         "BRA",
         "Brazil",
         null
        ],
        [
         "BRN",
         "Bahrain",
         null
        ],
        [
         "BRU",
         "Brunei",
         null
        ],
        [
         "BUL",
         "Bulgaria",
         null
        ],
        [
         "BUR",
         "Burkina Faso",
         null
        ],
        [
         "CAF",
         "Central African Republic",
         null
        ],
        [
         "CAM",
         "Cambodia",
         null
        ],
        [
         "CAN",
         "Canada",
         null
        ],
        [
         "CAY",
         "Cayman Islands",
         null
        ],
        [
         "CGO",
         "Republic of Congo",
         null
        ],
        [
         "CHA",
         "Chad",
         null
        ],
        [
         "CHI",
         "Chile",
         null
        ],
        [
         "CHN",
         "China",
         null
        ],
        [
         "CIV",
         "Ivory Coast",
         null
        ],
        [
         "CMR",
         "Cameroon",
         null
        ],
        [
         "COD",
         "Democratic Republic of the Congo",
         null
        ],
        [
         "COK",
         "Cook Islands",
         null
        ],
        [
         "COL",
         "Colombia",
         null
        ],
        [
         "COM",
         "Comoros",
         null
        ],
        [
         "CPV",
         "Cape Verde",
         null
        ],
        [
         "CRC",
         "Costa Rica",
         null
        ],
        [
         "CRO",
         "Croatia",
         null
        ],
        [
         "CRT",
         "Greece",
         "Crete"
        ],
        [
         "CUB",
         "Cuba",
         null
        ],
        [
         "CYP",
         "Cyprus",
         null
        ],
        [
         "CZE",
         "Czech Republic",
         null
        ],
        [
         "DEN",
         "Denmark",
         null
        ],
        [
         "DJI",
         "Djibouti",
         null
        ],
        [
         "DMA",
         "Dominica",
         null
        ],
        [
         "DOM",
         "Dominican Republic",
         null
        ],
        [
         "ECU",
         "Ecuador",
         null
        ],
        [
         "EGY",
         "Egypt",
         null
        ],
        [
         "ERI",
         "Eritrea",
         null
        ],
        [
         "ESA",
         "El Salvador",
         null
        ],
        [
         "ESP",
         "Spain",
         null
        ],
        [
         "EST",
         "Estonia",
         null
        ],
        [
         "ETH",
         "Ethiopia",
         null
        ],
        [
         "EUN",
         "Russia",
         null
        ],
        [
         "FIJ",
         "Fiji",
         null
        ],
        [
         "FIN",
         "Finland",
         null
        ],
        [
         "FRA",
         "France",
         null
        ],
        [
         "FRG",
         "Germany",
         null
        ],
        [
         "FSM",
         "Micronesia",
         null
        ],
        [
         "GAB",
         "Gabon",
         null
        ],
        [
         "GAM",
         "Gambia",
         null
        ],
        [
         "GBR",
         "UK",
         null
        ],
        [
         "GBS",
         "Guinea-Bissau",
         null
        ],
        [
         "GDR",
         "Germany",
         null
        ],
        [
         "GEO",
         "Georgia",
         null
        ],
        [
         "GEQ",
         "Equatorial Guinea",
         null
        ],
        [
         "GER",
         "Germany",
         null
        ],
        [
         "GHA",
         "Ghana",
         null
        ],
        [
         "GRE",
         "Greece",
         null
        ],
        [
         "GRN",
         "Grenada",
         null
        ],
        [
         "GUA",
         "Guatemala",
         null
        ],
        [
         "GUI",
         "Guinea",
         null
        ],
        [
         "GUM",
         "Guam",
         null
        ],
        [
         "GUY",
         "Guyana",
         null
        ],
        [
         "HAI",
         "Haiti",
         null
        ],
        [
         "HKG",
         "China",
         "Hong Kong"
        ],
        [
         "HON",
         "Honduras",
         null
        ],
        [
         "HUN",
         "Hungary",
         null
        ],
        [
         "INA",
         "Indonesia",
         null
        ],
        [
         "IND",
         "India",
         null
        ],
        [
         "IOA",
         "Individual Olympic Athletes",
         "Individual Olympic Athletes"
        ],
        [
         "IRI",
         "Iran",
         null
        ],
        [
         "IRL",
         "Ireland",
         null
        ],
        [
         "IRQ",
         "Iraq",
         null
        ],
        [
         "ISL",
         "Iceland",
         null
        ],
        [
         "ISR",
         "Israel",
         null
        ],
        [
         "\"ISV,\"\"Virgin Islands",
         " US\"\"",
         "Virgin Islands\""
        ],
        [
         "ITA",
         "Italy",
         null
        ],
        [
         "\"IVB,\"\"Virgin Islands",
         " British\"\"",
         "\n"
        ],
        [
         "JAM",
         "Jamaica",
         null
        ],
        [
         "JOR",
         "Jordan",
         null
        ],
        [
         "JPN",
         "Japan",
         null
        ],
        [
         "KAZ",
         "Kazakhstan",
         null
        ],
        [
         "KEN",
         "Kenya",
         null
        ],
        [
         "KGZ",
         "Kyrgyzstan",
         null
        ],
        [
         "KIR",
         "Kiribati",
         null
        ],
        [
         "KOR",
         "South Korea",
         null
        ],
        [
         "KOS",
         "Kosovo",
         null
        ],
        [
         "KSA",
         "Saudi Arabia",
         null
        ],
        [
         "KUW",
         "Kuwait",
         null
        ],
        [
         "LAO",
         "Laos",
         null
        ],
        [
         "LAT",
         "Latvia",
         null
        ],
        [
         "LBA",
         "Libya",
         null
        ],
        [
         "LBR",
         "Liberia",
         null
        ],
        [
         "LCA",
         "Saint Lucia",
         null
        ],
        [
         "LES",
         "Lesotho",
         null
        ],
        [
         "LIB",
         "Lebanon",
         null
        ],
        [
         "LIE",
         "Liechtenstein",
         null
        ],
        [
         "LTU",
         "Lithuania",
         null
        ],
        [
         "LUX",
         "Luxembourg",
         null
        ],
        [
         "MAD",
         "Madagascar",
         null
        ],
        [
         "MAL",
         "Malaysia",
         null
        ],
        [
         "MAR",
         "Morocco",
         null
        ],
        [
         "MAS",
         "Malaysia",
         null
        ],
        [
         "MAW",
         "Malawi",
         null
        ],
        [
         "MDA",
         "Moldova",
         null
        ],
        [
         "MDV",
         "Maldives",
         null
        ],
        [
         "MEX",
         "Mexico",
         null
        ],
        [
         "MGL",
         "Mongolia",
         null
        ],
        [
         "MHL",
         "Marshall Islands",
         null
        ],
        [
         "MKD",
         "Macedonia",
         null
        ],
        [
         "MLI",
         "Mali",
         null
        ],
        [
         "MLT",
         "Malta",
         null
        ],
        [
         "MNE",
         "Montenegro",
         null
        ],
        [
         "MON",
         "Monaco",
         null
        ],
        [
         "MOZ",
         "Mozambique",
         null
        ],
        [
         "MRI",
         "Mauritius",
         null
        ],
        [
         "MTN",
         "Mauritania",
         null
        ],
        [
         "MYA",
         "Myanmar",
         null
        ],
        [
         "NAM",
         "Namibia",
         null
        ],
        [
         "NBO",
         "Malaysia",
         "North Borneo"
        ],
        [
         "NCA",
         "Nicaragua",
         null
        ],
        [
         "NED",
         "Netherlands",
         null
        ],
        [
         "NEP",
         "Nepal",
         null
        ],
        [
         "NFL",
         "Canada",
         "Newfoundland"
        ],
        [
         "NGR",
         "Nigeria",
         null
        ],
        [
         "NIG",
         "Niger",
         null
        ],
        [
         "NOR",
         "Norway",
         null
        ],
        [
         "NRU",
         "Nauru",
         null
        ],
        [
         "NZL",
         "New Zealand",
         null
        ],
        [
         "OMA",
         "Oman",
         null
        ],
        [
         "PAK",
         "Pakistan",
         null
        ],
        [
         "PAN",
         "Panama",
         null
        ],
        [
         "PAR",
         "Paraguay",
         null
        ],
        [
         "PER",
         "Peru",
         null
        ],
        [
         "PHI",
         "Philippines",
         null
        ],
        [
         "PLE",
         "Palestine",
         null
        ],
        [
         "PLW",
         "Palau",
         null
        ],
        [
         "PNG",
         "Papua New Guinea",
         null
        ],
        [
         "POL",
         "Poland",
         null
        ],
        [
         "POR",
         "Portugal",
         null
        ],
        [
         "PRK",
         "North Korea",
         null
        ],
        [
         "PUR",
         "Puerto Rico",
         null
        ],
        [
         "QAT",
         "Qatar",
         null
        ],
        [
         "RHO",
         "Zimbabwe",
         null
        ],
        [
         "ROT",
         "NA",
         "Refugee Olympic Team"
        ],
        [
         "ROU",
         "Romania",
         null
        ],
        [
         "RSA",
         "South Africa",
         null
        ],
        [
         "RUS",
         "Russia",
         null
        ],
        [
         "RWA",
         "Rwanda",
         null
        ],
        [
         "SAA",
         "Germany",
         null
        ],
        [
         "SAM",
         "Samoa",
         null
        ],
        [
         "SCG",
         "Serbia",
         "Serbia and Montenegro"
        ],
        [
         "SEN",
         "Senegal",
         null
        ],
        [
         "SEY",
         "Seychelles",
         null
        ],
        [
         "SIN",
         "Singapore",
         null
        ],
        [
         "SKN",
         "Saint Kitts",
         "Turks and Caicos Islands"
        ],
        [
         "SLE",
         "Sierra Leone",
         null
        ],
        [
         "SLO",
         "Slovenia",
         null
        ],
        [
         "SMR",
         "San Marino",
         null
        ],
        [
         "SOL",
         "Solomon Islands",
         null
        ],
        [
         "SOM",
         "Somalia",
         null
        ],
        [
         "SRB",
         "Serbia",
         null
        ],
        [
         "SRI",
         "Sri Lanka",
         null
        ],
        [
         "SSD",
         "South Sudan",
         null
        ],
        [
         "STP",
         "Sao Tome and Principe",
         null
        ],
        [
         "SUD",
         "Sudan",
         null
        ],
        [
         "SUI",
         "Switzerland",
         null
        ],
        [
         "SUR",
         "Suriname",
         null
        ],
        [
         "SVK",
         "Slovakia",
         null
        ],
        [
         "SWE",
         "Sweden",
         null
        ],
        [
         "SWZ",
         "Swaziland",
         null
        ],
        [
         "SYR",
         "Syria",
         null
        ],
        [
         "TAN",
         "Tanzania",
         null
        ],
        [
         "TCH",
         "Czech Republic",
         null
        ],
        [
         "TGA",
         "Tonga",
         null
        ],
        [
         "THA",
         "Thailand",
         null
        ],
        [
         "TJK",
         "Tajikistan",
         null
        ],
        [
         "TKM",
         "Turkmenistan",
         null
        ],
        [
         "TLS",
         "Timor-Leste",
         null
        ],
        [
         "TOG",
         "Togo",
         null
        ],
        [
         "TPE",
         "Taiwan",
         null
        ],
        [
         "TTO",
         "Trinidad",
         "Trinidad and Tobago"
        ],
        [
         "TUN",
         "Tunisia",
         null
        ],
        [
         "TUR",
         "Turkey",
         null
        ],
        [
         "TUV",
         "NA",
         "Tuvalu"
        ],
        [
         "UAE",
         "United Arab Emirates",
         null
        ],
        [
         "UAR",
         "Syria",
         "United Arab Republic"
        ],
        [
         "UGA",
         "Uganda",
         null
        ],
        [
         "UKR",
         "Ukraine",
         null
        ],
        [
         "UNK",
         "NA",
         "Unknown"
        ],
        [
         "URS",
         "Russia",
         null
        ],
        [
         "URU",
         "Uruguay",
         null
        ],
        [
         "USA",
         "USA",
         null
        ],
        [
         "UZB",
         "Uzbekistan",
         null
        ],
        [
         "VAN",
         "Vanuatu",
         null
        ],
        [
         "VEN",
         "Venezuela",
         null
        ],
        [
         "VIE",
         "Vietnam",
         null
        ],
        [
         "VIN",
         "Saint Vincent",
         null
        ],
        [
         "VNM",
         "Vietnam",
         null
        ],
        [
         "WIF",
         "Trinidad",
         "West Indies Federation"
        ],
        [
         "YAR",
         "Yemen",
         "North Yemen"
        ],
        [
         "YEM",
         "Yemen",
         null
        ],
        [
         "YMD",
         "Yemen",
         "South Yemen"
        ],
        [
         "YUG",
         "Serbia",
         "Yugoslavia"
        ],
        [
         "ZAM",
         "Zambia",
         null
        ],
        [
         "ZIM",
         "Zimbabwe",
         null
        ]
       ],
       "datasetInfos": [],
       "dbfsResultPath": null,
       "isJsonSchema": true,
       "metadata": {},
       "overflow": false,
       "plotOptions": {
        "customPlotOptions": {},
        "displayType": "table",
        "pivotAggregation": null,
        "pivotColumns": null,
        "xColumns": null,
        "yColumns": null
       },
       "removedWidgets": [],
       "schema": [
        {
         "metadata": "{}",
         "name": "NOC",
         "type": "\"string\""
        },
        {
         "metadata": "{}",
         "name": "region",
         "type": "\"string\""
        },
        {
         "metadata": "{}",
         "name": "notes",
         "type": "\"string\""
        }
       ],
       "type": "table"
      }
     },
     "output_type": "display_data"
    }
   ],
   "source": [
    "# File location and type\n",
    "file_location = \"/FileStore/tables/noc_regions-9.csv\"\n",
    "file_type = \"csv\"\n",
    "\n",
    "# CSV options\n",
    "infer_schema = \"true\"\n",
    "first_row_is_header = \"true\"\n",
    "delimiter = \",\"\n",
    "\n",
    "# The applied options are for CSV files. For other file types, these will be ignored.\n",
    "df = spark.read.format(file_type) \\\n",
    "  .option(\"inferSchema\", infer_schema) \\\n",
    "  .option(\"header\", first_row_is_header) \\\n",
    "  .option(\"sep\", delimiter) \\\n",
    "  .load(file_location)\n",
    "\n",
    "display(df)"
   ]
  },
  {
   "cell_type": "code",
   "execution_count": 0,
   "metadata": {
    "application/vnd.databricks.v1+cell": {
     "cellMetadata": {
      "byteLimit": 2048000,
      "implicitDf": true,
      "rowLimit": 10000
     },
     "inputWidgets": {},
     "nuid": "c5ef5756-5562-4070-a4c7-5f7e548e5047",
     "showTitle": false,
     "tableResultSettingsMap": {},
     "title": ""
    }
   },
   "outputs": [],
   "source": [
    "#criando uma visualização temporária\n",
    "df.createOrReplaceTempView(\"noc_regions9\")\n",
    "\n",
    "# Salvar como arquivo Parquet\n",
    "df.write.mode(\"overwrite\").parquet(\"/dbfs/tmp/noc_regions9.parquet\")"
   ]
  },
  {
   "cell_type": "code",
   "execution_count": 0,
   "metadata": {
    "application/vnd.databricks.v1+cell": {
     "cellMetadata": {
      "byteLimit": 2048000,
      "rowLimit": 10000
     },
     "inputWidgets": {},
     "nuid": "b8166291-163a-4887-8146-f27c9cf365cc",
     "showTitle": false,
     "tableResultSettingsMap": {},
     "title": ""
    }
   },
   "outputs": [],
   "source": []
  }
 ],
 "metadata": {
  "application/vnd.databricks.v1+notebook": {
   "computePreferences": null,
   "dashboards": [],
   "environmentMetadata": null,
   "inputWidgetPreferences": null,
   "language": "python",
   "notebookMetadata": {
    "mostRecentlyExecutedCommandWithImplicitDF": {
     "commandId": -1,
     "dataframes": [
      "_sqldf"
     ]
    },
    "pythonIndentUnit": 4
   },
   "notebookName": "noc_regions-9",
   "widgets": {}
  }
 },
 "nbformat": 4,
 "nbformat_minor": 0
}